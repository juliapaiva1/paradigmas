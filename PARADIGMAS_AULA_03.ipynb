{
  "cells": [
    {
      "cell_type": "markdown",
      "metadata": {
        "colab_type": "text",
        "id": "view-in-github"
      },
      "source": [
        "<a href=\"https://colab.research.google.com/github/lucianosilva-github/paradigmas/blob/main/PARADIGMAS_AULA_03.ipynb\" target=\"_parent\"><img src=\"https://colab.research.google.com/assets/colab-badge.svg\" alt=\"Open In Colab\"/></a>"
      ]
    },
    {
      "cell_type": "markdown",
      "metadata": {
        "id": "EwxHf3E81Qyz"
      },
      "source": [
        "**LINGUAGENS E PARADIGMAS - AULA 03**\n",
        "\n",
        "**Prof. Luciano Silva**\n",
        "\n",
        "**OBJETIVOS DA AULA:**\n",
        "\n",
        "\n",
        "\n",
        "*   Revisar o proceso de análise léxica\n",
        "*   Introduzir o processo de análise sintática\n",
        "*   Implementar analisadores sintáticos usando a ferramenta rply\n",
        "\n"
      ]
    },
    {
      "cell_type": "markdown",
      "metadata": {
        "id": "QGMxqj9y7vWS"
      },
      "source": [
        "**REVISÃO DO PROCESSO DE ANÁLISE LÉXICA**\n",
        "\n",
        "Nas nossas aulas passadas, trabalhamos com a gramática abaixo, que permite reconhecer expressões aritméticas:\n",
        "\n",
        "\\<expression\\> ::= NUMBER\n",
        "\n",
        "               | \\<expression\\> \"+\" \\<expression\\>\n",
        "\n",
        "               | \\<expression\\> \"-\" \\<expression\\>\n",
        "\n",
        "               | \\<expression\\> \"*\" \\<expression\\>\n",
        "\n",
        "               | \\<expression\\> \"/\" \\<expression\\>\n",
        "\n",
        "               | \"(\" <expression> \")\""
      ]
    },
    {
      "cell_type": "markdown",
      "metadata": {
        "id": "vdlT1XbX8PFb"
      },
      "source": [
        "Para usar o módulo rply, primeiro instalamos o pacote no nosso notebook:\n",
        "\n"
      ]
    },
    {
      "cell_type": "code",
      "execution_count": 1,
      "metadata": {
        "id": "CbWUx55j1tLM"
      },
      "outputs": [
        {
          "name": "stdout",
          "output_type": "stream",
          "text": [
            "Requirement already satisfied: rply in c:\\users\\julia paiva\\appdata\\local\\programs\\python\\python310\\lib\\site-packages (0.7.8)\n",
            "Requirement already satisfied: appdirs in c:\\users\\julia paiva\\appdata\\local\\programs\\python\\python310\\lib\\site-packages (from rply) (1.4.4)\n"
          ]
        }
      ],
      "source": [
        "!pip install rply"
      ]
    },
    {
      "cell_type": "markdown",
      "metadata": {
        "id": "Mdp5ClkZ98Tw"
      },
      "source": [
        "O segundo passo foi construir um analisador léxico, que quebrava as nossas expressões em tokens:"
      ]
    },
    {
      "cell_type": "code",
      "execution_count": 4,
      "metadata": {
        "id": "Rezf3OAt1P7_"
      },
      "outputs": [],
      "source": [
        "from rply import LexerGenerator\n",
        "\n",
        "lg = LexerGenerator()\n",
        "\n",
        "lg.add('NUMBER', r'\\d+')\n",
        "lg.add('PLUS', r'\\+')\n",
        "lg.add('MINUS', r'-')\n",
        "lg.add('MUL', r'\\*')\n",
        "lg.add('DIV', r'/')\n",
        "lg.add('OPEN_PARENS', r'\\(')\n",
        "lg.add('CLOSE_PARENS', r'\\)')\n",
        "\n",
        "lg.ignore('\\s+')\n",
        "\n",
        "lexer = lg.build()"
      ]
    },
    {
      "cell_type": "markdown",
      "metadata": {
        "id": "g0EtKi3iABw7"
      },
      "source": [
        "Para mostrar somente os tokens reconhecidos de uma expressão, podemos utilizar o código abaixo:"
      ]
    },
    {
      "cell_type": "code",
      "execution_count": 5,
      "metadata": {
        "id": "lY0_GHM9ARAK"
      },
      "outputs": [
        {
          "name": "stdout",
          "output_type": "stream",
          "text": [
            "Token('NUMBER', '1')\n",
            "Token('PLUS', '+')\n",
            "Token('NUMBER', '1')\n",
            "Token('MINUS', '-')\n",
            "Token('NUMBER', '1')\n"
          ]
        }
      ],
      "source": [
        "for token in lexer.lex('1+1-1'):\n",
        "  print(token)"
      ]
    },
    {
      "cell_type": "markdown",
      "metadata": {
        "id": "R7eXfPcV-M-R"
      },
      "source": [
        "**PROCESSO DE ANÁLISE SINTÁTICA**\n",
        "\n",
        "A análise sintática é o segundo passo no processo de compilação:\n",
        "\n",
        "<img src=\"https://www.researchgate.net/profile/Nuno-Oliveira-15/publication/266497079/figure/fig1/AS:295651775664128@1447500284302/Common-Compiler-Phases.png\"> <img>\n",
        "\n",
        "Um **analisador sintático** recebe uma sequencia de tokens identificados pelo **analisador léxico** e verifica se estes tokens estão na ordem correta, segundo a **gramática** da linguagem que está sendo compilada.\n",
        "\n",
        "O produto final do processo de análise sintática é uma **árvore n-ária** chamada **árvore de análise sintática**.\n",
        "\n",
        "<img src=\"https://i.stack.imgur.com/woqkC.png\"> <img>\n",
        "\n",
        "Cada nó desta árvore sintática armazena uma parte reconhecida da entrada, de acordo com a gramática fornecida:\n",
        "\n",
        "\\<expression\\> ::= NUMBER\n",
        "\n",
        "               | \\<expression\\> \"+\" \\<expression\\>\n",
        "\n",
        "               | \\<expression\\> \"-\" \\<expression\\>\n",
        "\n",
        "               | \\<expression\\> \"*\" \\<expression\\>\n",
        "\n",
        "               | \\<expression\\> \"/\" \\<expression\\>\n",
        "\n",
        "               | \"(\" <expression> \")\"\n",
        "\n",
        "\n",
        "Normalmente, para cada linha da gramática, criamos uma classe para representar tal linha:\n",
        "\n"
      ]
    },
    {
      "cell_type": "code",
      "execution_count": 6,
      "metadata": {
        "id": "PbD2HvRH1__m"
      },
      "outputs": [],
      "source": [
        "from rply.token import BaseBox\n",
        "\n",
        "class Number(BaseBox):\n",
        "    def __init__(self, value):\n",
        "        self.value = value\n",
        "\n",
        "    def eval(self):\n",
        "        return self.value\n",
        "\n",
        "class BinaryOp(BaseBox):\n",
        "    def __init__(self, left, right):\n",
        "        self.left = left\n",
        "        self.right = right\n",
        "\n",
        "class Add(BinaryOp):\n",
        "    def eval(self):\n",
        "        return self.left.eval() + self.right.eval()\n",
        "\n",
        "class Sub(BinaryOp):\n",
        "    def eval(self):\n",
        "        return self.left.eval() - self.right.eval()\n",
        "\n",
        "class Mul(BinaryOp):\n",
        "    def eval(self):\n",
        "        return self.left.eval() * self.right.eval()\n",
        "\n",
        "class Div(BinaryOp):\n",
        "    def eval(self):\n",
        "        return self.left.eval() / self.right.eval()"
      ]
    },
    {
      "cell_type": "markdown",
      "metadata": {
        "id": "E-ZtegGt-Rzp"
      },
      "source": [
        "\n",
        "Uma vez que temos como representar cada linha a nossa gramática, dentro de cada nó, observem que temos um método eval. Este método irá calcular o valor representado por aquele nó. Posteriormente iremos acrescentar novos métodos para, por exemplo, verificar tipos, gerar código, dentre outros.\n",
        "\n",
        "Finalmente, temos a implementação do analisador sintático:\n",
        "\n"
      ]
    },
    {
      "cell_type": "code",
      "execution_count": 7,
      "metadata": {
        "id": "AZhvrrKL4Wjs"
      },
      "outputs": [],
      "source": [
        "from rply import ParserGenerator\n",
        "\n",
        "pg = ParserGenerator(\n",
        "    # A list of all token names, accepted by the lexer.\n",
        "    ['NUMBER', 'OPEN_PARENS', 'CLOSE_PARENS',\n",
        "     'PLUS', 'MINUS', 'MUL', 'DIV'\n",
        "    ],\n",
        "    # A list of precedence rules with ascending precedence, to\n",
        "    # disambiguate ambiguous production rules.\n",
        "    precedence=[\n",
        "        ('left', ['PLUS', 'MINUS']),\n",
        "        ('left', ['MUL', 'DIV'])\n",
        "    ]\n",
        ")\n",
        "\n",
        "@pg.production('expression : NUMBER')\n",
        "def expression_number(p):\n",
        "    # p is a list of the pieces matched by the right hand side of the\n",
        "    # rule\n",
        "    return Number(int(p[0].getstr()))\n",
        "\n",
        "@pg.production('expression : OPEN_PARENS expression CLOSE_PARENS')\n",
        "def expression_parens(p):\n",
        "    return p[1]\n",
        "\n",
        "@pg.production('expression : expression PLUS expression')\n",
        "@pg.production('expression : expression MINUS expression')\n",
        "@pg.production('expression : expression MUL expression')\n",
        "@pg.production('expression : expression DIV expression')\n",
        "def expression_binop(p):\n",
        "    left = p[0]\n",
        "    right = p[2]\n",
        "    if p[1].gettokentype() == 'PLUS':\n",
        "        return Add(left, right)\n",
        "    elif p[1].gettokentype() == 'MINUS':\n",
        "        return Sub(left, right)\n",
        "    elif p[1].gettokentype() == 'MUL':\n",
        "        return Mul(left, right)\n",
        "    elif p[1].gettokentype() == 'DIV':\n",
        "        return Div(left, right)\n",
        "    else:\n",
        "        raise AssertionError('Oops, this should not be possible!')\n",
        "\n",
        "parser = pg.build()\n"
      ]
    },
    {
      "cell_type": "markdown",
      "metadata": {
        "id": "UrRasgZS-b_1"
      },
      "source": [
        "Como resultado, temos a árvore sintática. Percorrendo esta árvore, podemos calcular o valor da expressão usando o método eval()."
      ]
    },
    {
      "cell_type": "code",
      "execution_count": 8,
      "metadata": {
        "id": "gAJAmar_6vLd"
      },
      "outputs": [
        {
          "data": {
            "text/plain": [
              "2"
            ]
          },
          "execution_count": 8,
          "metadata": {},
          "output_type": "execute_result"
        }
      ],
      "source": [
        "parser.parse(lexer.lex('1 + 1')).eval()"
      ]
    },
    {
      "cell_type": "markdown",
      "metadata": {
        "id": "5zwOD5FfJZ-S"
      },
      "source": [
        "**EXERCÍCIO**\n",
        "\n",
        "Modifique a gramática abaixo para permitir atribuições do tipo x=1+2*3; \n",
        "\n",
        "\\<expression\\> ::= NUMBER\n",
        "\n",
        "           | \\<expression\\> \"+\" \\<expression\\>\n",
        "\n",
        "           | \\<expression\\> \"-\" \\<expression\\>\n",
        "\n",
        "           | \\<expression\\> \"*\" \\<expression\\>\n",
        "\n",
        "           | \\<expression\\> \"/\" \\<expression\\>\n",
        "\n",
        "           | \"(\" <expression> \")\""
      ]
    },
    {
      "cell_type": "markdown",
      "metadata": {},
      "source": [
        "**RESPOSTA**\n",
        "\n",
        "Modifique a gramática abaixo para permitir atribuições do tipo x=1+2*3; \n",
        "\n",
        ":: = ID \"=\" \\<expression\\>;\n",
        " \n",
        "::= NUMBER\n",
        "\n",
        "           | \\<expression\\> \"+\" \\<expression\\>\n",
        "\n",
        "           | \\<expression\\> \"-\" \\<expression\\>\n",
        "\n",
        "           | \\<expression\\> \"*\" \\<expression\\>\n",
        "\n",
        "           | \\<expression\\> \"/\" \\<expression\\>\n",
        "\n",
        "           | \"(\" <expression> \")\""
      ]
    },
    {
      "cell_type": "markdown",
      "metadata": {
        "id": "ACSuZUyEJ2oQ"
      },
      "source": [
        "**EXERCÍCIO**\n",
        "\n",
        "Implemente um analisador sintático para a gramática modificada do exercício anterior:\n"
      ]
    },
    {
      "cell_type": "code",
      "execution_count": null,
      "metadata": {},
      "outputs": [],
      "source": [
        "from rply.token import BaseBox\n",
        "\n",
        "class Number(BaseBox):\n",
        "    def __init__(self, value):\n",
        "        self.value = value\n",
        "\n",
        "    def eval(self):\n",
        "        return self.value\n",
        "\n",
        "class ID(BaseBox):\n",
        "    def __init__(self, id):\n",
        "        self.id = id\n",
        "\n",
        "    def eval(self):\n",
        "        return self.id\n",
        "\n",
        "class BinaryOp(BaseBox):\n",
        "    def __init__(self, left, right):\n",
        "        self.left = left\n",
        "        self.right = right\n",
        "\n",
        "class Add(BinaryOp):\n",
        "    def eval(self):\n",
        "        return self.left.eval() + self.right.eval()\n",
        "\n",
        "class Sub(BinaryOp):\n",
        "    def eval(self):\n",
        "        return self.left.eval() - self.right.eval()\n",
        "\n",
        "class Mul(BinaryOp):\n",
        "    def eval(self):\n",
        "        return self.left.eval() * self.right.eval()\n",
        "\n",
        "class Div(BinaryOp):\n",
        "    def eval(self):\n",
        "        return self.left.eval() / self.right.eval()"
      ]
    },
    {
      "cell_type": "code",
      "execution_count": null,
      "metadata": {},
      "outputs": [],
      "source": [
        "from rply import ParserGenerator\n",
        "\n",
        "pg = ParserGenerator(\n",
        "    # A list of all token names, accepted by the lexer.\n",
        "    ['NUMBER', 'OPEN_PARENS', 'CLOSE_PARENS',\n",
        "     'PLUS', 'MINUS', 'MUL', 'DIV', 'ID'\n",
        "    ],\n",
        "    # A list of precedence rules with ascending precedence, to\n",
        "    # disambiguate ambiguous production rules.\n",
        "    precedence=[\n",
        "        ('left', ['PLUS', 'MINUS']),\n",
        "        ('left', ['MUL', 'DIV'])\n",
        "    ]\n",
        ")\n",
        "\n",
        "@pg.production('expression : NUMBER')\n",
        "def expression_number(p):\n",
        "    # p is a list of the pieces matched by the right hand side of the\n",
        "    # rule\n",
        "    return Number(int(p[0].getstr()))\n",
        "\n",
        "@pg.production('expression : ID')\n",
        "def expression_id(p):\n",
        "    # p is a list of the pieces matched by the right hand side of the\n",
        "    # rule\n",
        "    return ID(int(p[0].getstr()))\n",
        "\n",
        "@pg.production('expression : ID = expression ;')\n",
        "def id_expression(p):\n",
        "    return p[0]\n",
        "\n",
        "\n",
        "@pg.production('expression : OPEN_PARENS expression CLOSE_PARENS')\n",
        "def expression_parens(p):\n",
        "    return p[1]\n",
        "\n",
        "@pg.production('expression : expression PLUS expression')\n",
        "@pg.production('expression : expression MINUS expression')\n",
        "@pg.production('expression : expression MUL expression')\n",
        "@pg.production('expression : expression DIV expression')\n",
        "def expression_binop(p):\n",
        "    left = p[0]\n",
        "    right = p[2]\n",
        "    if p[1].gettokentype() == 'PLUS':\n",
        "        return Add(left, right)\n",
        "    elif p[1].gettokentype() == 'MINUS':\n",
        "        return Sub(left, right)\n",
        "    elif p[1].gettokentype() == 'MUL':\n",
        "        return Mul(left, right)\n",
        "    elif p[1].gettokentype() == 'DIV':\n",
        "        return Div(left, right)\n",
        "    else:\n",
        "        raise AssertionError('Oops, this should not be possible!')\n",
        "\n",
        "parser = pg.build()"
      ]
    },
    {
      "cell_type": "markdown",
      "metadata": {
        "id": "2jqRKa4zKMge"
      },
      "source": [
        "**EXERCÍCIO**\n",
        "\n",
        "Implemente um analisador sintático para a gramática modificada do exercício anterior:\n",
        "\n",
        "1.   Modifique a gramática anterior para permitir expressões envolvendo exponenciação (ˆ). Por exemplo: x = 2ˆ3.\n",
        "2.   Implemente um analisador sintático para reconhecer ou recusar operações de exponenciação.\n",
        "\n"
      ]
    },
    {
      "cell_type": "code",
      "execution_count": null,
      "metadata": {
        "id": "E1hG0D_5HDFo"
      },
      "outputs": [],
      "source": [
        "#digite sua solução aqui"
      ]
    }
  ],
  "metadata": {
    "colab": {
      "authorship_tag": "ABX9TyOwb4B4xp7Q1bwg6WPfW52r",
      "include_colab_link": true,
      "name": "PARADIGMAS - AULA 03.ipynb",
      "provenance": []
    },
    "kernelspec": {
      "display_name": "Python 3",
      "name": "python3"
    },
    "language_info": {
      "codemirror_mode": {
        "name": "ipython",
        "version": 3
      },
      "file_extension": ".py",
      "mimetype": "text/x-python",
      "name": "python",
      "nbconvert_exporter": "python",
      "pygments_lexer": "ipython3",
      "version": "3.10.2"
    }
  },
  "nbformat": 4,
  "nbformat_minor": 0
}
