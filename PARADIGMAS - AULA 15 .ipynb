{
  "nbformat": 4,
  "nbformat_minor": 0,
  "metadata": {
    "colab": {
      "name": "PARADIGMAS - AULA 13.ipynb",
      "provenance": [],
      "include_colab_link": true
    },
    "kernelspec": {
      "name": "python3",
      "display_name": "Python 3"
    }
  },
  "cells": [
    {
      "cell_type": "markdown",
      "metadata": {
        "id": "view-in-github",
        "colab_type": "text"
      },
      "source": [
        "<a href=\"https://colab.research.google.com/github/lucianosilva-github/paradigmas/blob/main/PARADIGMAS%20-%20AULA%2015%20.ipynb\" target=\"_parent\"><img src=\"https://colab.research.google.com/assets/colab-badge.svg\" alt=\"Open In Colab\"/></a>"
      ]
    },
    {
      "cell_type": "markdown",
      "metadata": {
        "id": "EwxHf3E81Qyz"
      },
      "source": [
        "**LINGUAGENS E PARADIGMAS - AULA 15**\n",
        "\n",
        "**Prof. Luciano Silva**\n",
        "\n",
        "**OBJETIVOS DA AULA:**\n",
        "\n",
        "*   Conhecer o conceito de função\n",
        "*  Conhecer o paradigma de programação modular\n",
        "*   Produzir uma gramática para funções\n",
        "*   Gerar código para funções\n"
      ]
    },
    {
      "cell_type": "code",
      "source": [
        "!pip install rply"
      ],
      "metadata": {
        "id": "700U_yj5UGN6",
        "colab": {
          "base_uri": "https://localhost:8080/"
        },
        "outputId": "77326252-571b-4dbe-b072-a6aafab0fe62"
      },
      "execution_count": 1,
      "outputs": [
        {
          "output_type": "stream",
          "name": "stdout",
          "text": [
            "Collecting rply\n",
            "  Downloading rply-0.7.8-py2.py3-none-any.whl (16 kB)\n",
            "Requirement already satisfied: appdirs in /usr/local/lib/python3.10/dist-packages (from rply) (1.4.4)\n",
            "Installing collected packages: rply\n",
            "Successfully installed rply-0.7.8\n"
          ]
        }
      ]
    },
    {
      "cell_type": "markdown",
      "source": [
        "**CORREÇÃO DO EXERCÍCIO DA AULA PASSADA (COMANDO FOR)**"
      ],
      "metadata": {
        "id": "Gkuz38jFNTBz"
      }
    },
    {
      "cell_type": "code",
      "metadata": {
        "id": "PnT-UX-_6xUo"
      },
      "source": [
        "from rply import LexerGenerator\n",
        "\n",
        "lg = LexerGenerator()\n",
        "\n",
        "lg.add('NUMBER', r'\\d+')\n",
        "lg.add('PLUS', r'\\+')\n",
        "lg.add('MINUS', r'-')\n",
        "lg.add('MUL', r'\\*')\n",
        "lg.add('DIV', r'/')\n",
        "lg.add('OPEN_PARENS', r'\\(')\n",
        "lg.add('CLOSE_PARENS', r'\\)')\n",
        "\n",
        "lg.add('INT', r'int')\n",
        "lg.add('STRING', r'string')\n",
        "lg.add('IF', r'if')\n",
        "lg.add('ELSE', r'else')\n",
        "lg.add('WHILE', r'while')\n",
        "lg.add('FOR', r'for')\n",
        "\n",
        "lg.add('ID', r'[a-zA-z][a-zA-z0-9]*')\n",
        "lg.add('COMP','==')\n",
        "lg.add('COMP','!=')\n",
        "lg.add('COMP','>=')\n",
        "lg.add('COMP','>')\n",
        "lg.add('COMP','<=')\n",
        "lg.add('COMP','<')\n",
        "\n",
        "lg.add('EQUALS', r'=')\n",
        "lg.add('SEMICOL', r';')\n",
        "\n",
        "lg.ignore('\\s+')\n",
        "\n",
        "lexer = lg.build()"
      ],
      "execution_count": null,
      "outputs": []
    },
    {
      "cell_type": "markdown",
      "metadata": {
        "id": "TSVSY10PLdX0"
      },
      "source": [
        "* Classes dos nós da árvore sintática, já com o método accept para receber os visitors:"
      ]
    },
    {
      "cell_type": "code",
      "source": [
        "#ÁRVORE SINTÁTICA PREPARADA PARA RECEBER VISITORS\n",
        "\n",
        "from rply.token import BaseBox\n",
        "\n",
        "class Prog(BaseBox):\n",
        "    def __init__(self, decls,stmts):\n",
        "        self.decls = decls\n",
        "        self.stmts = stmts\n",
        "\n",
        "    def accept(self, visitor):\n",
        "        visitor.visit_prog(self)\n",
        "\n",
        "class VarDecls(BaseBox):\n",
        "    def __init__(self, decl,decls):\n",
        "        self.decl = decl\n",
        "        self.decls = decls\n",
        "\n",
        "    def accept(self, visitor):\n",
        "        visitor.visit_vardecls(self)\n",
        "\n",
        "class VarDecl(BaseBox):\n",
        "    def __init__(self, id,tp):\n",
        "        self.id = id\n",
        "        self.tp = tp\n",
        "\n",
        "\n",
        "    def accept(self, visitor):\n",
        "        visitor.visit_vardecl(self)\n",
        "\n",
        "class Statements(BaseBox):\n",
        "    def __init__(self, stmt,stmts):\n",
        "        self.stmt = stmt\n",
        "        self.stmts = stmts\n",
        "\n",
        "    def accept(self, visitor):\n",
        "        visitor.visit_statements(self)\n",
        "\n",
        "class Statement(BaseBox):\n",
        "    def __init__(self,cmd):\n",
        "        self.cmd = cmd\n",
        "\n",
        "    def accept(self, visitor):\n",
        "        visitor.visit_statement(self)\n",
        "\n",
        "class Atrib(BaseBox):\n",
        "    def __init__(self, id,expr):\n",
        "        self.id = id\n",
        "        self.expr = expr\n",
        "\n",
        "    def accept(self, visitor):\n",
        "        visitor.visit_atrib(self)\n",
        "\n",
        "class IfElse(BaseBox):\n",
        "    def __init__(self, expr1, comp, expr2, ie1,ie2):\n",
        "        self.expr1=expr1\n",
        "        self.comp = comp\n",
        "        self.expr2=expr2\n",
        "        self.ie1=ie1\n",
        "        self.ie2=ie2\n",
        "\n",
        "    def accept(self, visitor):\n",
        "        visitor.visit_ifelse(self)\n",
        "\n",
        "\n",
        "class While(BaseBox):\n",
        "    def __init__(self, expr1, comp, expr2, ie1):\n",
        "        self.expr1=expr1\n",
        "        self.comp = comp\n",
        "        self.expr2=expr2\n",
        "        self.ie1=ie1\n",
        "\n",
        "\n",
        "    def accept(self, visitor):\n",
        "        visitor.visit_while(self)\n",
        "\n",
        "class Expr(BaseBox):\n",
        "    def accept(self, visitor):\n",
        "        method_name = 'visit_{}'.format(self.__class__.__name__.lower())\n",
        "        visit = getattr(visitor, method_name)\n",
        "        visit(self)\n",
        "\n",
        "class Id(Expr):\n",
        "    def __init__(self, value):\n",
        "        self.value = value\n",
        "\n",
        "class Number(Expr):\n",
        "    def __init__(self, value):\n",
        "        self.value = value\n",
        "\n",
        "\n",
        "class BinaryOp(Expr):\n",
        "    def __init__(self, left, right):\n",
        "        self.left = left\n",
        "        self.right = right\n",
        "\n",
        "class Add(BinaryOp):\n",
        "  pass\n",
        "\n",
        "\n",
        "class Sub(BinaryOp):\n",
        "  pass\n",
        "\n",
        "\n",
        "class Mul(BinaryOp):\n",
        "  pass\n",
        "\n",
        "\n",
        "class Div(BinaryOp):\n",
        "  pass\n"
      ],
      "metadata": {
        "id": "1W38fZ3Mefmv"
      },
      "execution_count": null,
      "outputs": []
    },
    {
      "cell_type": "markdown",
      "metadata": {
        "id": "C7kMPyOivGfx"
      },
      "source": [
        "* Implementação do analisador sintático:"
      ]
    },
    {
      "cell_type": "code",
      "source": [
        "#ANALISADOR SINTÁTICO\n",
        "\n",
        "from rply import ParserGenerator\n",
        "\n",
        "pg = ParserGenerator(\n",
        "    # A list of all token names, accepted by the lexer.\n",
        "    ['NUMBER', 'OPEN_PARENS', 'CLOSE_PARENS',\n",
        "     'PLUS', 'MINUS', 'MUL', 'DIV', 'INT', 'STRING', 'ID','SEMICOL',\n",
        "     'EQUALS','COMP','IF','ELSE','WHILE'\n",
        "    ],\n",
        "    # A list of precedence rules with ascending precedence, to\n",
        "    # disambiguate ambiguous production rules.\n",
        "    precedence=[\n",
        "        ('left', ['PLUS', 'MINUS']),\n",
        "        ('left', ['MUL', 'DIV'])\n",
        "    ]\n",
        ")\n",
        "\n",
        "@pg.production('prog : vardecls statements')\n",
        "def prog(p):\n",
        "    return Prog(p[0],p[1])\n",
        "\n",
        "@pg.production('vardecls : vardecl')\n",
        "def vardecls(p):\n",
        "    return VarDecls(p[0],None)\n",
        "\n",
        "@pg.production('vardecls : vardecl vardecls')\n",
        "def vardecls(p):\n",
        "    return VarDecls(p[0],p[1])\n",
        "\n",
        "@pg.production('vardecl : STRING ID SEMICOL')\n",
        "def vardecl_string(p):\n",
        "    return VarDecl(p[1].getstr(), \"string\")\n",
        "\n",
        "@pg.production('vardecl : INT ID SEMICOL')\n",
        "def vardecl_int(p):\n",
        "    return VarDecl(p[1].getstr(), \"int\")\n",
        "\n",
        "@pg.production('statements : openstatement')\n",
        "def statement_statements(p):\n",
        "    return Statements(p[0],None)\n",
        "\n",
        "@pg.production('statements : openstatement statements')\n",
        "def statement_statements(p):\n",
        "    return Statements(p[0],p[1])\n",
        "\n",
        "@pg.production('openstatement : ID EQUALS expression SEMICOL')\n",
        "def statement_atrib(p):\n",
        "    return Atrib(p[0].getstr(),p[2])\n",
        "\n",
        "@pg.production('openstatement : WHILE OPEN_PARENS expression COMP expression CLOSE_PARENS openstatement')\n",
        "def statement_while(p):\n",
        "    return While (p[2],p[3],p[4],p[6])\n",
        "\n",
        "@pg.production('openstatement : IF OPEN_PARENS expression COMP expression CLOSE_PARENS openstatement')\n",
        "def expression_ifelse1(p):\n",
        "    return IfElse (p[2],p[3],p[4],p[6],None)\n",
        "\n",
        "\n",
        "@pg.production('openstatement : IF OPEN_PARENS expression COMP expression CLOSE_PARENS closedstatement ELSE openstatement')\n",
        "def expression_ifelse1(p):\n",
        "    return IfElse (p[2],p[3],p[4],p[6],p[8])\n",
        "\n",
        "@pg.production('closedstatement : ID EQUALS expression SEMICOL')\n",
        "def statement_atrib(p):\n",
        "    return Atrib(p[0].getstr(),p[2])\n",
        "\n",
        "@pg.production('closedstatement : WHILE OPEN_PARENS expression COMP expression CLOSE_PARENS closedstatement')\n",
        "def statement_while(p):\n",
        "    return While (p[2],p[3],p[4],p[6])\n",
        "\n",
        "@pg.production('closedstatement : IF OPEN_PARENS expression COMP expression CLOSE_PARENS closedstatement ELSE closedstatement')\n",
        "def expression_ifelse1(p):\n",
        "    return IfElse (p[2],p[3],p[4],p[6],p[8])\n",
        "\n",
        "@pg.production('expression : ID')\n",
        "def expression_id(p):\n",
        "    return Id(p[0].getstr())\n",
        "\n",
        "@pg.production('expression : NUMBER')\n",
        "def expression_number(p):\n",
        "    return Number(int(p[0].getstr()))\n",
        "\n",
        "@pg.production('expression : OPEN_PARENS expression CLOSE_PARENS')\n",
        "def expression_parens(p):\n",
        "    return p[1]\n",
        "\n",
        "@pg.production('expression : expression PLUS expression')\n",
        "@pg.production('expression : expression MINUS expression')\n",
        "@pg.production('expression : expression MUL expression')\n",
        "@pg.production('expression : expression DIV expression')\n",
        "def expression_binop(p):\n",
        "    left = p[0]\n",
        "    right = p[2]\n",
        "    if p[1].gettokentype() == 'PLUS':\n",
        "        return Add(left, right)\n",
        "    elif p[1].gettokentype() == 'MINUS':\n",
        "        return Sub(left, right)\n",
        "    elif p[1].gettokentype() == 'MUL':\n",
        "        return Mul(left, right)\n",
        "    elif p[1].gettokentype() == 'DIV':\n",
        "        return Div(left, right)\n",
        "    else:\n",
        "        raise AssertionError('Oops, this should not be possible!')\n",
        "\n",
        "parser = pg.build()"
      ],
      "metadata": {
        "id": "psI6o8Ozeibv"
      },
      "execution_count": null,
      "outputs": []
    },
    {
      "cell_type": "code",
      "source": [
        "# VISITOR PARA TABELA DE SÍMBOLOS\n",
        "\n",
        "ST={}\n",
        "\n",
        "class Visitor(object):\n",
        "  pass\n",
        "\n",
        "class SymbolTable(Visitor):\n",
        "    def visit_prog(self, prog):\n",
        "        prog.decls.accept(self)\n",
        "\n",
        "    def visit_vardecls(self, d):\n",
        "        d.decl.accept(self)\n",
        "        if d.decls!=None:\n",
        "          d.decls.accept(self)\n",
        "\n",
        "    def visit_vardecl(self, d):\n",
        "        ST[d.id]=d.tp\n"
      ],
      "metadata": {
        "id": "IbX7eFdVWDpG"
      },
      "execution_count": null,
      "outputs": []
    },
    {
      "cell_type": "code",
      "source": [
        "arvore=parser.parse(lexer.lex('int x;int y; x=3;if(x<3) while (x>=2) x=x-1; else y=6;'))\n",
        "arvore.accept(SymbolTable())\n",
        "print(ST)"
      ],
      "metadata": {
        "colab": {
          "base_uri": "https://localhost:8080/"
        },
        "id": "FJjMuHXlWgAt",
        "outputId": "eae1d1d1-4ebb-45cf-9432-e0526635dbbe"
      },
      "execution_count": null,
      "outputs": [
        {
          "output_type": "stream",
          "name": "stdout",
          "text": [
            "{'x': 'int', 'y': 'int'}\n"
          ]
        }
      ]
    },
    {
      "cell_type": "code",
      "source": [
        "#VISITOR PARA DECORAR TIPOS\n",
        "\n",
        "class Decorator(Visitor):\n",
        "\n",
        "    def visit_prog(self, i):\n",
        "        i.stmts.accept(self)\n",
        "\n",
        "    def visit_statements(self, d):\n",
        "        d.stmt.accept(self)\n",
        "        if d.stmts!=None:\n",
        "          d.stmts.accept(self)\n",
        "\n",
        "    def visit_statement(self, d):\n",
        "        d.cmd.accept(self)\n",
        "\n",
        "    def visit_atrib(self, i):\n",
        "        if i.id in ST:\n",
        "          i.decor_type=ST[i.id]\n",
        "        else:\n",
        "          raise AssertionError('id not declared')\n",
        "        i.expr.accept(self)\n",
        "\n",
        "    def visit_ifelse(self, i):\n",
        "        i.expr1.accept(self)\n",
        "        i.expr2.accept(self)\n",
        "        i.ie1.accept(self)\n",
        "        if i.ie2!=None:\n",
        "          i.ie2.accept(self)\n",
        "\n",
        "    def visit_while(self, i):\n",
        "        i.expr1.accept(self)\n",
        "        i.expr2.accept(self)\n",
        "        i.ie1.accept(self)\n",
        "\n",
        "\n",
        "    def visit_id(self, i):\n",
        "        if i.value in ST:\n",
        "          i.decor_type=ST[i.value]\n",
        "        else:\n",
        "          raise AssertionError('id not declared')\n",
        "\n",
        "\n",
        "    def visit_number(self, i):\n",
        "        i.decor_type=\"int\"\n",
        "\n",
        "\n",
        "    def visit_add(self, a):\n",
        "        a.left.accept(self)\n",
        "        a.right.accept(self)\n",
        "        if a.left.decor_type==\"int\" and a.right.decor_type==\"int\":\n",
        "          a.decor_type=\"int\"\n",
        "\n",
        "\n",
        "    def visit_sub(self, a):\n",
        "        a.left.accept(self)\n",
        "        a.right.accept(self)\n",
        "        if a.left.decor_type==\"int\" and a.right.decor_type==\"int\":\n",
        "          a.decor_type=\"int\"\n",
        "\n",
        "    def visit_mul(self, a):\n",
        "        a.left.accept(self)\n",
        "        a.right.accept(self)\n",
        "        if a.left.decor_type==\"int\" and a.right.decor_type==\"int\":\n",
        "          a.decor_type=\"int\"\n",
        "\n",
        "    def visit_div(self, a):\n",
        "        a.left.accept(self)\n",
        "        a.right.accept(self)\n",
        "        if a.left.decor_type==\"int\" and a.right.decor_type==\"int\":\n",
        "          a.decor_type=\"int\"\n",
        "\n"
      ],
      "metadata": {
        "id": "LjOFrvN2XYsZ"
      },
      "execution_count": null,
      "outputs": []
    },
    {
      "cell_type": "code",
      "source": [
        "arvore=parser.parse(lexer.lex('int x;int y; x=3;if(x<3) while (x>=2) x=x-1; else y=6;'))\n",
        "arvore.accept(SymbolTable())\n",
        "arvore.accept(Decorator())"
      ],
      "metadata": {
        "id": "m4Uk-lAJenyv"
      },
      "execution_count": null,
      "outputs": []
    },
    {
      "cell_type": "code",
      "source": [
        "# VISITOR - TYPE VERIFIER\n",
        "\n",
        "class TypeVerifier(Visitor):\n",
        "\n",
        "    def visit_prog(self, i):\n",
        "        i.stmts.accept(self)\n",
        "\n",
        "    def visit_statements(self, d):\n",
        "        d.stmt.accept(self)\n",
        "        if d.stmts!=None:\n",
        "          d.stmts.accept(self)\n",
        "\n",
        "    def visit_statement(self, d):\n",
        "        d.cmd.accept(self)\n",
        "\n",
        "    def visit_atrib(self, i):\n",
        "        if i.decor_type!=i.expr.decor_type:\n",
        "          raise AssertionError('type error')\n",
        "\n",
        "    def visit_ifelse(self, i):\n",
        "        if i.expr1.decor_type!=i.expr2.decor_type:\n",
        "          raise AssertionError('type error')\n",
        "\n",
        "    def visit_while(self, i):\n",
        "        if i.expr1.decor_type!=i.expr2.decor_type:\n",
        "          raise AssertionError('type error')\n"
      ],
      "metadata": {
        "id": "foQJuqX9e5XM"
      },
      "execution_count": null,
      "outputs": []
    },
    {
      "cell_type": "code",
      "source": [
        "arvore=parser.parse(lexer.lex('int x;int y; x=3;if(x<3) while (x>=2) x=x-1; else y=6;'))\n",
        "arvore.accept(SymbolTable())\n",
        "arvore.accept(Decorator())\n",
        "arvore.accept(TypeVerifier())"
      ],
      "metadata": {
        "id": "Z1nUoDSifNQ8"
      },
      "execution_count": null,
      "outputs": []
    },
    {
      "cell_type": "markdown",
      "source": [
        "**GERAÇÃO DE CÓDIGO PARA WHILE**\n",
        "\n",
        "Para a geração de código do comando **while** vamos usar os operadores de comparação:\n",
        "\n",
        "* **EQL** (Equals) OPR 0 8\n",
        "* **NEQ** (Not equals) OPR 0 9\n",
        "* **LSS** (Less than) OPR 0 10\n",
        "* **LEQ** (Less equals) OPR 0 11\n",
        "* **GTR** (Greater than) OPR 0 12\n",
        "* **GEQ** (Greater equals) OPR 0 13\n",
        "\n",
        "E os operadores de jump (salto):\n",
        "\n",
        "*   **JMP** (Jump)\n",
        "*   **JPC** (Conditional Jump)\n",
        "\n"
      ],
      "metadata": {
        "id": "_Wkp2aE6f0DE"
      }
    },
    {
      "cell_type": "code",
      "source": [
        "class IntermediateCode(Visitor):\n",
        "\n",
        "  def __init__(self):\n",
        "        self.level=0  #nível do if-then-else\n",
        "        self.loop=0  #número do loop\n",
        "        self.comp={\"==\":\"8\",\"!=\":\"9\",\"<\":\"10\", \"<=\":\"11\", \">\":\"12\", \">=\":\"13\" } #códigos dos comparadores\n",
        "\n",
        "\n",
        "  def visit_prog(self, i):\n",
        "        i.stmts.accept(self)\n",
        "\n",
        "  def visit_statements(self, d):\n",
        "        d.stmt.accept(self)\n",
        "        if d.stmts!=None:\n",
        "          d.stmts.accept(self)\n",
        "\n",
        "\n",
        "  def visit_statement(self, d):\n",
        "        d.cmd.accept(self)\n",
        "\n",
        "  def visit_atrib(self, i):\n",
        "        i.expr.accept(self)\n",
        "        print(\"sto 0\",i.id)\n",
        "\n",
        "  def visit_ifelse(self, i):\n",
        "        i.expr2.accept(self) #gera código para expressão 2\n",
        "        i.expr1.accept(self) #gera código para expressão 1\n",
        "        print(\"opr 0 \"+self.comp[i.comp.getstr()])  #obtém o código do operador de comparação\n",
        "        self.level=self.level+1\n",
        "        print(\"jpc 0 true\"+str(self.level)) # se o resultado da comparação for verdadeiro, pula para o true correspondente\n",
        "        print(\"jmp 0 false\"+str(self.level))# se o resultado da comparação for falso, pula para o true correspondente\n",
        "        print(\"true\"+str(self.level)+\":\") #gera o rótulo da seção true\n",
        "        i.ie1.accept(self) # gera o código para true\n",
        "        print(\"jmp final\"+str(self.level)) # pula para o final do bloco if-true-else\n",
        "        print(\"false\"+str(self.level)+\":\") #gera o rótulo para a seção false\n",
        "        if i.ie2!=None:  # se houver else, gera o código\n",
        "          i.ie2.accept(self)\n",
        "        print(\"final\"+str(self.level)+\":\") #gera o rótulo para o final do bloco\n",
        "        self.level=self.level-1\n",
        "\n",
        "  def visit_while(self, i):\n",
        "        self.loop=self.loop+1\n",
        "        print(\"loop\"+str(self.loop)+\":\") #gera o rótulo da seção true\n",
        "        i.expr2.accept(self) #gera código para expressão 2\n",
        "        i.expr1.accept(self) #gera código para expressão 1\n",
        "        print(\"opr 0 \"+self.comp[i.comp.getstr()])  #obtém o código do operador de comparação\n",
        "        self.level=self.level+1\n",
        "        print(\"jpc 0 true\"+str(self.level)) # se o resultado da comparação for verdadeiro, pula para o true correspondente\n",
        "        print(\"jmp 0 final\"+str(self.level))# se o resultado da comparação for falso, pula para o true correspondente\n",
        "        print(\"true\"+str(self.level)+\":\") #gera o rótulo da seção true\n",
        "        i.ie1.accept(self) # gera o código para true\n",
        "        print(\"jmp loop\"+str(self.loop)) # pula para o início do loop\n",
        "        print(\"final\"+str(self.level)+\":\") #gera o rótulo para o final do bloco do loop\n",
        "        self.level=self.level-1\n",
        "\n",
        "  def visit_number(self, i):\n",
        "    print(\"lit 0 \",i.value)\n",
        "\n",
        "  def visit_id(self, i):\n",
        "    print(\"lod 0 \",i.value)\n",
        "\n",
        "  def visit_add(self, a):\n",
        "        a.left.accept(self)\n",
        "        a.right.accept(self)\n",
        "        print(\"opr 0 2\")\n",
        "\n",
        "\n",
        "  def visit_sub(self, a):\n",
        "        a.left.accept(self)\n",
        "        a.right.accept(self)\n",
        "        print(\"opr 0 3\")\n",
        "\n",
        "\n",
        "  def visit_mul(self, a):\n",
        "        a.left.accept(self)\n",
        "        a.right.accept(self)\n",
        "        print(\"opr 0 4\")\n",
        "\n",
        "\n",
        "  def visit_div(self, a):\n",
        "        a.left.accept(self)\n",
        "        a.right.accept(self)\n",
        "        print(\"opr 0 5\")\n"
      ],
      "metadata": {
        "id": "PKRoH00BlYAO"
      },
      "execution_count": null,
      "outputs": []
    },
    {
      "cell_type": "code",
      "source": [
        "arvore=parser.parse(lexer.lex('int x;int y; x=3;if(x<3) while (x>=2) x=x-1; else y=6;'))\n",
        "arvore.accept(SymbolTable())\n",
        "arvore.accept(Decorator())\n",
        "arvore.accept(TypeVerifier())\n",
        "arvore.accept(IntermediateCode())"
      ],
      "metadata": {
        "id": "Fou7H9oziGK-",
        "outputId": "daa78eee-6149-462a-a428-6714f28452d2",
        "colab": {
          "base_uri": "https://localhost:8080/"
        }
      },
      "execution_count": null,
      "outputs": [
        {
          "output_type": "stream",
          "name": "stdout",
          "text": [
            "lit 0  3\n",
            "sto 0 x\n",
            "lit 0  3\n",
            "lod 0  x\n",
            "opr 0 10\n",
            "jpc 0 true1\n",
            "jmp 0 false1\n",
            "true1:\n",
            "loop1:\n",
            "lit 0  2\n",
            "lod 0  x\n",
            "opr 0 13\n",
            "jpc 0 true2\n",
            "jmp 0 final2\n",
            "true2:\n",
            "lod 0  x\n",
            "lit 0  1\n",
            "opr 0 3\n",
            "sto 0 x\n",
            "jmp loop1\n",
            "final2:\n",
            "jmp final1\n",
            "false1:\n",
            "lit 0  6\n",
            "sto 0 y\n",
            "final1:\n"
          ]
        }
      ]
    },
    {
      "cell_type": "markdown",
      "source": [
        "Esta saída pode ser melhor visualizada da seguinte forma:"
      ],
      "metadata": {
        "id": "lbBqqzoOD996"
      }
    },
    {
      "cell_type": "markdown",
      "source": [
        "![Captura de Tela 2023-10-26 às 12.38.05 AM.png](data:image/png;base64,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)"
      ],
      "metadata": {
        "id": "30IrdCdfD_u8"
      }
    },
    {
      "cell_type": "markdown",
      "source": [
        "**EXERCÍCIO**\n",
        "\n",
        "Compare o programa fornecido com o código intermediário e identifique as partes correspondentes."
      ],
      "metadata": {
        "id": "28X-_d-elksR"
      }
    },
    {
      "cell_type": "markdown",
      "source": [
        "**COMANDO FOR**\n",
        "\n",
        "O comando imperativo **for** é outra abstração do conceito de **loop** em linguagens de programação. Um loop for possui a seguinte sintaxe:\n",
        "\n",
        "**for(inicialização; condição de término;alteração do contador)**\n",
        "\n",
        "O comando for pode ser reescrito com um comando while. Vamos considerar o seguinte exemplo:\n",
        "\n",
        "for(x=0; x<10;x=x+1) ...\n",
        "\n",
        "Isto pode ser transformado no seguinte while:\n",
        "\n",
        "\n",
        "*   x=0\n",
        "* while (x<10)\n",
        "  * ...\n",
        "  * x=x+1\n",
        "\n"
      ],
      "metadata": {
        "id": "sA6QWLMgn8Fp"
      }
    },
    {
      "cell_type": "markdown",
      "source": [
        "**EXERCÍCIO**\n",
        "\n",
        "\n",
        "1.   Modificar a última versão da nossa gramática para acomodar o comando for. Lembre-se que dentro de um for podemos ter atribuições, condicionais e outros loops.\n",
        "2.   Implementar um analisador léxico para identificar os tokens da gramática modificada.\n",
        "3. Implementar um analisador sintático para identificar os tokens da gramática modificada.\n",
        "4. Implementar os visitors para montagem da tabela de símbolos, decorador de tipos, verificador de tipos e gerador de código intermediário para o comando for.\n",
        "\n"
      ],
      "metadata": {
        "id": "Jmt_OTQQqXsh"
      }
    },
    {
      "cell_type": "code",
      "source": [
        "#IMPLEMENTE SUA SOLUÇÃO AQUI"
      ],
      "metadata": {
        "id": "gLjZs1BwrHKb"
      },
      "execution_count": null,
      "outputs": []
    }
  ]
}