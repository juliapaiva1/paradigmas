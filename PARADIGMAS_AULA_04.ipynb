{
  "cells": [
    {
      "cell_type": "markdown",
      "metadata": {
        "colab_type": "text",
        "id": "view-in-github"
      },
      "source": [
        "<a href=\"https://colab.research.google.com/github/lucianosilva-github/paradigmas/blob/main/PARADIGMAS_AULA_04.ipynb\" target=\"_parent\"><img src=\"https://colab.research.google.com/assets/colab-badge.svg\" alt=\"Open In Colab\"/></a>"
      ]
    },
    {
      "cell_type": "markdown",
      "metadata": {
        "id": "EwxHf3E81Qyz"
      },
      "source": [
        "**LINGUAGENS E PARADIGMAS - AULA 04**\n",
        "\n",
        "**Prof. Luciano Silva**\n",
        "\n",
        "**OBJETIVOS DA AULA:**\n",
        "\n",
        "\n",
        "\n",
        "*   Entender o design pattern Visitor em Python\n",
        "*   Entender e praticar com Visitor para percorrer a árvore sintática\n"
      ]
    },
    {
      "cell_type": "code",
      "execution_count": null,
      "metadata": {
        "id": "CbWUx55j1tLM"
      },
      "outputs": [],
      "source": [
        "!pip install rply"
      ]
    },
    {
      "cell_type": "markdown",
      "metadata": {
        "id": "G3U1M0ZlL0gT"
      },
      "source": [
        "**DESIGN PATTERN VISITOR**\n",
        "\n",
        "O Visitor é um design pattern comportamental que permite adicionar novos comportamentos à hierarquia de classes existente sem alterar nenhum código existente.\n",
        "\n",
        "<img src=https://www.oodesign.com/images/behavioral/visitor-pattern.png> </img>\n",
        "\n",
        "\n",
        "Vamos implementar este design pattern para as classes abaixo:"
      ]
    },
    {
      "cell_type": "code",
      "execution_count": null,
      "metadata": {
        "id": "FeJAdrR_RsJe"
      },
      "outputs": [],
      "source": [
        "class Expr(object):\n",
        "    def accept(self, visitor):\n",
        "        method_name = 'visit_{}'.format(self.__class__.__name__.lower())\n",
        "        visit = getattr(visitor, method_name)\n",
        "        return visit(self)\n",
        "\n",
        "\n",
        "class Int(Expr):\n",
        "    def __init__(self, value):\n",
        "        self.value = value\n",
        "\n",
        "\n",
        "class Add(Expr):\n",
        "    def __init__(self, left, right):\n",
        "        self.left = left\n",
        "        self.right = right\n",
        "\n",
        "\n",
        "class Mul(Expr):\n",
        "    def __init__(self, left, right):\n",
        "        self.left = left\n",
        "        self.right = right\n"
      ]
    },
    {
      "cell_type": "code",
      "execution_count": null,
      "metadata": {
        "id": "5pr65X4rb9x_"
      },
      "outputs": [],
      "source": [
        "class Visitor(object):\n",
        "    pass\n",
        "\n",
        "\n",
        "class Eval(Visitor):\n",
        "    def visit_int(self, i):\n",
        "        return i.value\n",
        "\n",
        "    def visit_add(self, a):\n",
        "        return a.left.accept(self) + a.right.accept(self)\n",
        "\n",
        "    def visit_mul(self, a):\n",
        "        return a.left.accept(self) * a.right.accept(self)\n",
        "\n",
        "\n",
        "class Print(Visitor):\n",
        "    def visit_int(self, i):\n",
        "        return i.value\n",
        "\n",
        "    def visit_add(self, a):\n",
        "        return '(+ {} {})'.format(a.left.accept(self), a.right.accept(self))\n",
        "\n",
        "    def visit_mul(self, a):\n",
        "        return '(* {} {})'.format(a.left.accept(self), a.right.accept(self))\n"
      ]
    },
    {
      "cell_type": "code",
      "execution_count": null,
      "metadata": {
        "id": "xQxlP6sHcB3Q"
      },
      "outputs": [],
      "source": [
        "expr = Add(Add(Int(4), Int(3)), Mul(Int(10), Add(Int(1), Int(1))))\n",
        "print(expr.accept(Print()))\n",
        "print(expr.accept(Eval()))"
      ]
    },
    {
      "cell_type": "markdown",
      "metadata": {
        "id": "WDogT1ytJrEt"
      },
      "source": [
        "**EXERCÍCIOS**\n",
        "\n",
        "Implementar um visitor de impressão e outro de cálculo da expressão para a gramática abaixo:\n",
        "\n",
        "\\<expression\\> ::= NUMBER\n",
        "\n",
        "       | \\<expression\\> \"+\" \\<expression\\>\n",
        "\n",
        "       | \\<expression\\> \"-\" \\<expression\\>\n",
        "\n",
        "       | \\<expression\\> \"*\" \\<expression\\>\n",
        "\n",
        "       | \\<expression\\> \"/\" \\<expression\\>\n",
        "\n",
        "       | \"(\" <expression> \")\""
      ]
    },
    {
      "cell_type": "code",
      "execution_count": 6,
      "metadata": {
        "id": "AohGQ2yWKDli"
      },
      "outputs": [],
      "source": [
        "from rply import LexerGenerator\n",
        "\n",
        "lg = LexerGenerator()\n",
        "\n",
        "lg.add('NUMBER', r'\\d+')\n",
        "lg.add('PLUS', r'\\+')\n",
        "lg.add('MINUS', r'-')\n",
        "lg.add('MUL', r'\\*')\n",
        "lg.add('DIV', r'/')\n",
        "lg.add('OPEN_PARENS', r'\\(')\n",
        "lg.add('CLOSE_PARENS', r'\\)')\n",
        "\n",
        "lg.ignore('\\s+')\n",
        "\n",
        "lexer = lg.build()"
      ]
    },
    {
      "cell_type": "code",
      "execution_count": 7,
      "metadata": {
        "id": "RLcu5RuHDl6B"
      },
      "outputs": [],
      "source": [
        "from rply.token import BaseBox\n",
        "\n",
        "class Number(BaseBox):\n",
        "    def __init__(self, value):\n",
        "        self.value = value\n",
        "\n",
        "    def accept(self, visitor):\n",
        "        return visitor.visit_number(self)\n",
        "\n",
        "class BinaryOp(BaseBox):\n",
        "    def __init__(self, left, right):\n",
        "        self.left = left\n",
        "        self.right = right\n",
        "\n",
        "class Add(BinaryOp):\n",
        "    def accept(self, visitor):\n",
        "        return visitor.visit_add(self)\n",
        "\n",
        "class Sub(BinaryOp):\n",
        "    def accept(self, visitor):\n",
        "        return visitor.visit_sub(self)\n",
        "\n",
        "class Mul(BinaryOp):\n",
        "    def accept(self, visitor):\n",
        "        return visitor.visit_mul(self)\n",
        "\n",
        "class Div(BinaryOp):\n",
        "    def accept(self, visitor):\n",
        "        return visitor.visit_div(self)\n"
      ]
    },
    {
      "cell_type": "code",
      "execution_count": 8,
      "metadata": {},
      "outputs": [],
      "source": [
        "class Eval(Visitor):\n",
        "\n",
        "  def visit_number(self,number):\n",
        "    return number.value\n",
        "  \n",
        "  def visit_add(self, add):\n",
        "    return self.visit(add.left) + self.visit(add.right)\n",
        "  \n",
        "  def visit_sub(self, sub):\n",
        "    return self.visit_sub(sub.left) - self.visit(sub.right)\n",
        "  \n",
        "  def visit_mul(self, mul):\n",
        "    return self.visit_mul(mul.left) * self.visit(mul.right)\n",
        "  \n",
        "  def visit_div(self, div):\n",
        "    return self.visit_div(div.left) / self.visit(div.right)"
      ]
    },
    {
      "cell_type": "code",
      "execution_count": 9,
      "metadata": {},
      "outputs": [],
      "source": [
        "class Print(Visitor):\n",
        "\n",
        "  def print_number(self,number):\n",
        "    print(number.value)\n",
        "  \n",
        "  def print_add(self, add):\n",
        "    add.left.accept(self)\n",
        "    print('+')\n",
        "    add.right.accept(self)\n",
        "  \n",
        "  def print_sub(self, sub):\n",
        "    sub.left.accept(self)\n",
        "    print('-')\n",
        "    sub.right.accept(self)\n",
        "    \n",
        "  def print_mul(self, mul):  \n",
        "    mul.left.accept(self)\n",
        "    print('*')\n",
        "    mul.right.accept(self)\n",
        "\n",
        "  def print_div(self, div):\n",
        "    div.left.accept(self)\n",
        "    print('/')\n",
        "    div.right.accept(self)"
      ]
    },
    {
      "cell_type": "code",
      "execution_count": 10,
      "metadata": {
        "id": "2MB_wWwWEGcX"
      },
      "outputs": [],
      "source": [
        "from rply import ParserGenerator\n",
        "\n",
        "pg = ParserGenerator(\n",
        "    # A list of all token names, accepted by the lexer.\n",
        "    ['NUMBER', 'OPEN_PARENS', 'CLOSE_PARENS',\n",
        "     'PLUS', 'MINUS', 'MUL', 'DIV'\n",
        "    ],\n",
        "    # A list of precedence rules with ascending precedence, to\n",
        "    # disambiguate ambiguous production rules.\n",
        "    precedence=[\n",
        "        ('left', ['PLUS', 'MINUS']),\n",
        "        ('left', ['MUL', 'DIV'])\n",
        "    ]\n",
        ")\n",
        "\n",
        "@pg.production('expression : NUMBER')\n",
        "def expression_number(p):\n",
        "    # p is a list of the pieces matched by the right hand side of the\n",
        "    # rule\n",
        "    return Number(int(p[0].getstr()))\n",
        "\n",
        "@pg.production('expression : OPEN_PARENS expression CLOSE_PARENS')\n",
        "def expression_parens(p):\n",
        "    return p[1]\n",
        "\n",
        "@pg.production('expression : expression PLUS expression')\n",
        "@pg.production('expression : expression MINUS expression')\n",
        "@pg.production('expression : expression MUL expression')\n",
        "@pg.production('expression : expression DIV expression')\n",
        "def expression_binop(p):\n",
        "    left = p[0]\n",
        "    right = p[2]\n",
        "    if p[1].gettokentype() == 'PLUS':\n",
        "        return Add(left, right)\n",
        "    elif p[1].gettokentype() == 'MINUS':\n",
        "        return Sub(left, right)\n",
        "    elif p[1].gettokentype() == 'MUL':\n",
        "        return Mul(left, right)\n",
        "    elif p[1].gettokentype() == 'DIV':\n",
        "        return Div(left, right)\n",
        "    else:\n",
        "        raise AssertionError('Oops, this should not be possible!')\n",
        "\n",
        "parser = pg.build()"
      ]
    },
    {
      "cell_type": "code",
      "execution_count": 11,
      "metadata": {
        "id": "f9H91s7fFWdB"
      },
      "outputs": [],
      "source": [
        "arvore=parser.parse(lexer.lex('1+2*3'))"
      ]
    }
  ],
  "metadata": {
    "colab": {
      "include_colab_link": true,
      "name": "PARADIGMAS-AULA 04.ipynb",
      "provenance": []
    },
    "kernelspec": {
      "display_name": "Python 3",
      "name": "python3"
    },
    "language_info": {
      "codemirror_mode": {
        "name": "ipython",
        "version": 3
      },
      "file_extension": ".py",
      "mimetype": "text/x-python",
      "name": "python",
      "nbconvert_exporter": "python",
      "pygments_lexer": "ipython3",
      "version": "3.10.2"
    }
  },
  "nbformat": 4,
  "nbformat_minor": 0
}
